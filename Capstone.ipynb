{
  "nbformat": 4,
  "nbformat_minor": 0,
  "metadata": {
    "colab": {
      "provenance": [],
      "toc_visible": true,
      "authorship_tag": "ABX9TyP4LbR0nuvz2H+rpuvO+eDl",
      "include_colab_link": true
    },
    "kernelspec": {
      "name": "python3",
      "display_name": "Python 3"
    },
    "language_info": {
      "name": "python"
    }
  },
  "cells": [
    {
      "cell_type": "markdown",
      "metadata": {
        "id": "view-in-github",
        "colab_type": "text"
      },
      "source": [
        "<a href=\"https://colab.research.google.com/github/kg-neuro/capstone/blob/main/Capstone.ipynb\" target=\"_parent\"><img src=\"https://colab.research.google.com/assets/colab-badge.svg\" alt=\"Open In Colab\"/></a>"
      ]
    },
    {
      "cell_type": "markdown",
      "source": [
        "# PREVENT-SOC Equation\n",
        "A cardiovascular risk equation incorporating social determinants of health\n",
        "\n",
        "Created by Kyla Gabriel and updated in May 2024\n",
        "\n",
        "Table of Contents:\n",
        "1. Data Cleaning\n",
        "2. Baseline\n",
        "3. Logistic Regression\n",
        "4. Random Forest\n",
        "5. Gradient Boosting\n",
        "\n"
      ],
      "metadata": {
        "id": "RrmQutrbeLRE"
      }
    },
    {
      "cell_type": "markdown",
      "source": [
        "## Data Cleaning\n",
        "Note: File path is dependent on one's computer and file name is dependent on which file you wish to convert"
      ],
      "metadata": {
        "id": "Y6AVdm4IdR8R"
      }
    },
    {
      "cell_type": "code",
      "source": [
        "# Open libraries\n",
        "import pandas as pd"
      ],
      "metadata": {
        "id": "UMqreB2lbzbG"
      },
      "execution_count": null,
      "outputs": []
    },
    {
      "cell_type": "code",
      "execution_count": null,
      "metadata": {
        "id": "R4BVAtbzYyRB"
      },
      "outputs": [],
      "source": [
        " # Conversion to CSV\n",
        "FILE_PATH = \"/content/NHANES/\"\n",
        "FILE = \"UACR\"  # Change to file name you want to open\n",
        "\n",
        "df = pd.read_sas(FILE_PATH + FILE + '.XPT', index=None)\n",
        "df.to_csv(FILE_PATH + FILE + '.csv')"
      ]
    }
  ]
}